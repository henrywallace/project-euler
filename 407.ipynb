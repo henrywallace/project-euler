{
 "cells": [
  {
   "cell_type": "markdown",
   "metadata": {},
   "source": [
    "We note three useful observations:\n",
    "- $a^2 \\equiv a \\pmod n$ is equivalent to $a(a - 1) \\equiv 0 \\pmod n$.\n",
    "- $a = 0, 1$ are trivial solutions for every $n$.\n",
    "- If $a$ is a solution, then $(n - a + 1)$ is also, since $(n - a + 1)(n - a) \\equiv a^2 - a \\pmod n$.\n",
    "\n",
    "Also, by Euclid's lemma, $n$ prime implies $n \\mid a$ or $n \\mid (a - 1)$, but $a < p$ so that $n$ prime has no non-trivial solutions. Going even further, no power of a prime has solutions.\n",
    "\n",
    "What remains to be illuminated are composite $n$. Let each $n = \\prod_p p^\\alpha$.\n",
    "\n",
    "We have that if $p^\\alpha \\mid a(a - 1)$ and $q^\\beta \\mid a(a - 1)$, then $p^\\alpha q^\\beta \\mid a(a - 1)$."
   ]
  },
  {
   "cell_type": "markdown",
   "metadata": {},
   "source": [
    "--------------"
   ]
  },
  {
   "cell_type": "code",
   "execution_count": 5,
   "metadata": {
    "collapsed": true
   },
   "outputs": [],
   "source": [
    "def sols(n, e):\n",
    "    return [a for a in range(n)\n",
    "            if (a**e - a) % n == 0]"
   ]
  },
  {
   "cell_type": "code",
   "execution_count": 7,
   "metadata": {
    "collapsed": false
   },
   "outputs": [
    {
     "data": {
      "text/plain": [
       "[0, 1, 25, 76]"
      ]
     },
     "execution_count": 7,
     "metadata": {},
     "output_type": "execute_result"
    }
   ],
   "source": [
    "sols(100, 2)"
   ]
  },
  {
   "cell_type": "code",
   "execution_count": null,
   "metadata": {
    "collapsed": true
   },
   "outputs": [],
   "source": [
    "from collections import Counter\n",
    "\n",
    "def sieve_factors(bound):\n",
    "    '''Generate factors for all numbers in range(2, bound).\n",
    "    \n",
    "    The factors of \n",
    "    '''\n",
    "    # index i corresponds to integer i + 2\n",
    "    sieve = [Counter()]*bound\n",
    "    sieve\n",
    "    for i, factors in enumerate(sieve):\n",
    "        sieve[]"
   ]
  }
 ],
 "metadata": {
  "kernelspec": {
   "display_name": "Python 3",
   "language": "python",
   "name": "python3"
  },
  "language_info": {
   "codemirror_mode": {
    "name": "ipython",
    "version": 3
   },
   "file_extension": ".py",
   "mimetype": "text/x-python",
   "name": "python",
   "nbconvert_exporter": "python",
   "pygments_lexer": "ipython3",
   "version": "3.5.1"
  }
 },
 "nbformat": 4,
 "nbformat_minor": 0
}
